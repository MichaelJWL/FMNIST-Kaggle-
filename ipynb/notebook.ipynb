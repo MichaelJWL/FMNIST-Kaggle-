{
 "cells": [
  {
   "cell_type": "code",
   "execution_count": 1,
   "metadata": {},
   "outputs": [],
   "source": [
    "%matplotlib inline"
   ]
  },
  {
   "cell_type": "code",
   "execution_count": 2,
   "metadata": {
    "_cell_guid": "270b73e4-8626-443b-8539-d088bd94011f",
    "_uuid": "2ea176a975e020aeb3fb3980f7a6afdd1eb248bb"
   },
   "outputs": [
    {
     "name": "stdout",
     "output_type": "stream",
     "text": [
      "fashion-mnist_test.csv\n",
      "fashion-mnist_train.csv\n",
      "\n"
     ]
    }
   ],
   "source": [
    "# This Python 3 environment comes with many helpful analytics libraries installed\n",
    "# It is defined by the kaggle/python docker image: https://github.com/kaggle/docker-python\n",
    "# For example, here's several helpful packages to load in \n",
    "\n",
    "import numpy as np # linear algebra\n",
    "import pandas as pd # data processing, CSV file I/O (e.g. pd.read_csv)\n",
    "import matplotlib.pyplot as plt # print graph of costs\n",
    "\n",
    "# Input data files are available in the \"../input/\" directory.\n",
    "# For example, running this (by clicking run or pressing Shift+Enter) will list the files in the input directory\n",
    "\n",
    "from subprocess import check_output\n",
    "print(check_output([\"ls\", \"../input\"]).decode(\"utf8\"))\n",
    "\n",
    "# Any results you write to the current directory are saved as output."
   ]
  },
  {
   "cell_type": "code",
   "execution_count": 3,
   "metadata": {
    "_cell_guid": "a1482274-ae6b-44e4-95ac-d3ae292f0068",
    "_uuid": "510caf544f3d172e25b30778ebc0f539b7c7245a"
   },
   "outputs": [],
   "source": [
    "data=pd.read_csv('../input/fashion-mnist_train.csv')"
   ]
  },
  {
   "cell_type": "code",
   "execution_count": 4,
   "metadata": {
    "_cell_guid": "8802e8eb-f22b-43c2-a276-1a5222d0fc1a",
    "_uuid": "76e56c91f4ffc1dc32e9b8731526dbc57c5bad4a"
   },
   "outputs": [],
   "source": [
    "X_train=data.iloc[:,1:].values.reshape(-1,28,28,1)/255\n",
    "Y_train=data.iloc[:,0].values.reshape(-1,1)"
   ]
  },
  {
   "cell_type": "code",
   "execution_count": 5,
   "metadata": {
    "_cell_guid": "de47161a-a7ce-4a58-adb2-697a9803371c",
    "_uuid": "d0f13ee93b27de1ec1627d04a8c0d0d5486e7fc5"
   },
   "outputs": [
    {
     "name": "stdout",
     "output_type": "stream",
     "text": [
      "(60000, 28, 28, 1) (60000, 1)\n"
     ]
    }
   ],
   "source": [
    "print(X_train.shape,Y_train.shape)"
   ]
  },
  {
   "cell_type": "code",
   "execution_count": 6,
   "metadata": {
    "_cell_guid": "6543b07e-9d9a-4fca-81f9-973db9db2083",
    "_uuid": "f150669532d2cbe28ede8aca4a93339361adbe7c"
   },
   "outputs": [],
   "source": [
    "from sklearn.model_selection import train_test_split\n",
    "from sklearn.preprocessing import LabelEncoder"
   ]
  },
  {
   "cell_type": "code",
   "execution_count": 7,
   "metadata": {
    "_cell_guid": "7f9ca039-a737-4181-9908-5fcf896070e7",
    "_uuid": "0c313567670c171edec4b2f3590ae890d6f26d5d"
   },
   "outputs": [
    {
     "name": "stdout",
     "output_type": "stream",
     "text": [
      "(48000, 28, 28, 1) (48000, 10) (12000, 28, 28, 1) (12000, 10)\n"
     ]
    }
   ],
   "source": [
    "Y_Train=np.zeros((60000,10))\n",
    "for elem in range(60000):\n",
    "    Y_Train[elem,Y_train[elem,0]]=1\n",
    "Y_train=Y_Train\n",
    "Xtr,Xte,Ytr,Yte=train_test_split(X_train,Y_train,test_size=0.2)\n",
    "print(Xtr.shape,Ytr.shape,Xte.shape,Yte.shape)"
   ]
  },
  {
   "cell_type": "code",
   "execution_count": 8,
   "metadata": {
    "_cell_guid": "a22c5656-a8df-44a3-b56b-ddfd55b68867",
    "_uuid": "a38b5c6d7739660a2852932abe9856e3c533c5bb"
   },
   "outputs": [],
   "source": [
    "import tensorflow as tf"
   ]
  },
  {
   "cell_type": "code",
   "execution_count": 9,
   "metadata": {
    "_cell_guid": "f71327b9-28ba-451a-bf82-5f2b26903cb3",
    "_uuid": "58e0f534fed0284bb4fbb832ee82fa648e8053a0"
   },
   "outputs": [],
   "source": [
    "X=tf.placeholder(tf.float32,[None,28,28,1])\n",
    "Y=tf.placeholder(tf.float32,[None,10])"
   ]
  },
  {
   "cell_type": "code",
   "execution_count": 10,
   "metadata": {
    "_cell_guid": "1adb41c2-8936-485d-b719-041af55f0d5d",
    "_uuid": "4e0627347a8104bd4b221221e138bb59c0c44274"
   },
   "outputs": [],
   "source": [
    "c1=tf.contrib.layers.conv2d(X, 10, kernel_size=(3,3))\n",
    "p1=tf.contrib.layers.max_pool2d(c1,(3,3))\n",
    "bn1=tf.contrib.layers.batch_norm(p1,center=True, scale=True,is_training=True,scope='bn1')\n",
    "a1=tf.nn.relu(bn1)\n",
    "\n",
    "c2=tf.contrib.layers.conv2d(a1, 30, kernel_size=(3,3))\n",
    "p2=tf.contrib.layers.max_pool2d(c2,(2,2))\n",
    "bn2=tf.contrib.layers.batch_norm(p2,center=True,scale=True,is_training=True,scope='bn2')\n",
    "a2=tf.nn.relu(bn2)\n",
    "\n",
    "c3=tf.contrib.layers.conv2d(a2, 50, kernel_size=(3,3))\n",
    "p3=tf.contrib.layers.max_pool2d(c3,(2,2))\n",
    "bn3=tf.contrib.layers.batch_norm(p3,center=True,scale=True,is_training=True,scope='bn3')\n",
    "a3=tf.nn.relu(bn3)\n"
   ]
  },
  {
   "cell_type": "code",
   "execution_count": 11,
   "metadata": {
    "_cell_guid": "fc814f54-de51-4c1c-b8af-8b72f3fabb38",
    "_uuid": "776adc46eb19bb99fb149593452de49a832c1d74"
   },
   "outputs": [],
   "source": [
    "F=tf.contrib.layers.flatten(a3)\n",
    "Yhat=tf.contrib.layers.fully_connected(F,10)"
   ]
  },
  {
   "cell_type": "code",
   "execution_count": 12,
   "metadata": {
    "_cell_guid": "9c9065c5-2d84-4f46-b197-c3d9cce0ccd8",
    "_uuid": "2a78c6836597680bb067763a93256da9bc25924c"
   },
   "outputs": [],
   "source": [
    "loss=tf.reduce_mean(tf.nn.softmax_cross_entropy_with_logits(labels=Y,logits=Yhat))\n",
    "#tf.nn.softmax_cross_entropy_with_logits()"
   ]
  },
  {
   "cell_type": "code",
   "execution_count": 13,
   "metadata": {
    "_cell_guid": "f2728db3-30f9-47e4-bde3-ef9d5443b7e8",
    "_uuid": "d577730a4210983b656565bcbdd4a1d50b6dcced"
   },
   "outputs": [],
   "source": [
    "learning_rate = 0.001\n",
    "optimizer=tf.train.AdamOptimizer(0.001).minimize(loss)"
   ]
  },
  {
   "cell_type": "code",
   "execution_count": 14,
   "metadata": {
    "_uuid": "defc8956d716354a21bb49c7fc35e2cb95a664b3"
   },
   "outputs": [],
   "source": [
    "def random_mini_batches(X_train, Y_train, minibatch_size):\n",
    "    data_size=Y_train.shape[0]\n",
    "    \n",
    "    minibatches = []\n",
    "    \n",
    "    num=int(data_size/minibatch_size)\n",
    "    num_ex=data_size%minibatch_size\n",
    "    \n",
    "    if(num_ex>0):\n",
    "        num=num+1\n",
    "    \n",
    "    for i in range(num):\n",
    "        inds=np.random.randint(0,48000,size=128)\n",
    "        X_batch,Y_batch=Xtr[inds,...],Ytr[inds,...]\n",
    "        minibatches.append((X_batch,Y_batch))    \n",
    "    return minibatches\n",
    "    \n",
    "    "
   ]
  },
  {
   "cell_type": "code",
   "execution_count": 15,
   "metadata": {
    "_cell_guid": "7cc6ebb7-c49b-4025-881b-5170f2eea326",
    "_kg_hide-input": true,
    "_uuid": "fb5d29e261f5d8f05b9d4d6f10ef25200e070c85",
    "scrolled": false
   },
   "outputs": [
    {
     "name": "stdout",
     "output_type": "stream",
     "text": [
      "Cost after epoch 0: 0.625069\n",
      "Cost after epoch 1: 0.306065\n",
      "Cost after epoch 2: 0.252924\n",
      "Cost after epoch 3: 0.225519\n",
      "Cost after epoch 4: 0.201082\n",
      "Cost after epoch 5: 0.184537\n",
      "Cost after epoch 6: 0.174203\n",
      "Cost after epoch 7: 0.158390\n",
      "Cost after epoch 8: 0.148097\n",
      "Cost after epoch 9: 0.142411\n",
      "Cost after epoch 10: 0.130587\n",
      "Cost after epoch 11: 0.122622\n",
      "Cost after epoch 12: 0.115176\n",
      "Cost after epoch 13: 0.111654\n",
      "Cost after epoch 14: 0.102866\n",
      "Cost after epoch 15: 0.099378\n",
      "Cost after epoch 16: 0.092787\n",
      "Cost after epoch 17: 0.085932\n",
      "Cost after epoch 18: 0.080642\n",
      "Cost after epoch 19: 0.077018\n",
      "Cost after epoch 20: 0.074814\n",
      "Cost after epoch 21: 0.068205\n",
      "Cost after epoch 22: 0.066314\n",
      "Cost after epoch 23: 0.065088\n",
      "Cost after epoch 24: 0.062158\n",
      "Cost after epoch 25: 0.058044\n",
      "Cost after epoch 26: 0.053229\n",
      "Cost after epoch 27: 0.050400\n",
      "Cost after epoch 28: 0.052378\n",
      "Cost after epoch 29: 0.050943\n",
      "Cost after epoch 30: 0.047355\n",
      "Cost after epoch 31: 0.047833\n",
      "Cost after epoch 32: 0.048958\n",
      "Cost after epoch 33: 0.040232\n",
      "Cost after epoch 34: 0.043668\n",
      "Cost after epoch 35: 0.042150\n",
      "Cost after epoch 36: 0.039145\n",
      "Cost after epoch 37: 0.039778\n",
      "Cost after epoch 38: 0.039314\n",
      "Cost after epoch 39: 0.031871\n",
      "Cost after epoch 40: 0.034330\n",
      "Cost after epoch 41: 0.036387\n",
      "Cost after epoch 42: 0.034305\n",
      "Cost after epoch 43: 0.035797\n",
      "Cost after epoch 44: 0.030512\n",
      "Cost after epoch 45: 0.026945\n",
      "Cost after epoch 46: 0.028162\n",
      "Cost after epoch 47: 0.032657\n",
      "Cost after epoch 48: 0.035226\n",
      "Cost after epoch 49: 0.031384\n"
     ]
    },
    {
     "data": {
      "image/png": "[encoded data removed]",
      "text/plain": [
       "<matplotlib.figure.Figure at 0x1a495b7710>"
      ]
     },
     "metadata": {},
     "output_type": "display_data"
    },
    {
     "name": "stdout",
     "output_type": "stream",
     "text": [
      "Tensor(\"Mean_1:0\", shape=(), dtype=float32)\n",
      "Train Accuracy: 0.992229\n",
      "Test Accuracy: 0.895417\n"
     ]
    }
   ],
   "source": [
    "init = tf.global_variables_initializer()\n",
    "num_epoch = 50\n",
    "minibatch_size = 128\n",
    "costs = []\n",
    "with tf.Session() as sess:\n",
    "    sess.run(init)\n",
    "    for epoch in range(num_epoch):\n",
    "        \n",
    "        minibatch_cost = 0\n",
    "        num_minibatches = int(Xtr.shape[0]/minibatch_size)\n",
    "        minibatches=random_mini_batches(Xtr,Ytr,minibatch_size)\n",
    "        for minibatch in minibatches:\n",
    "            (X_batch,Y_batch)=minibatch\n",
    "            _, temp_cost=sess.run([optimizer,loss],feed_dict={X:X_batch,Y:Y_batch})\n",
    "            \n",
    "            minibatch_cost += temp_cost/num_minibatches\n",
    "        if(epoch%1 == 0):\n",
    "            print(\"Cost after epoch %i: %f\" % (epoch, minibatch_cost))\n",
    "        if(epoch%1 == 0):\n",
    "            costs.append(minibatch_cost)\n",
    "           \n",
    "# plot the cost\n",
    "    plt.plot(np.squeeze(costs))\n",
    "    plt.ylabel('cost')\n",
    "    plt.xlabel('iterations (per tens)')\n",
    "    plt.title(\"Learning rate =\" + str(learning_rate))\n",
    "    plt.show()\n",
    "#         inds=np.random.randint(0,12000,size=128)\n",
    "#         x,y=Xte[inds],Yte[inds]\n",
    "#         print(sess.run(loss,feed_dict={X:x,Y:y}))\n",
    "        # Calculate the correct predictions\n",
    "    predict_op = tf.argmax(Yhat, 1)\n",
    "    correct_prediction = tf.equal(predict_op, tf.argmax(Y, 1))\n",
    "        \n",
    "        # Calculate accuracy on the test set\n",
    "    accuracy = tf.reduce_mean(tf.cast(correct_prediction, \"float\"))\n",
    "    print(accuracy)\n",
    "    train_accuracy = accuracy.eval({X: Xtr, Y: Ytr})\n",
    "    test_accuracy = accuracy.eval({X: Xte, Y: Yte})\n",
    "    print(\"Train Accuracy:\", train_accuracy)\n",
    "    print(\"Test Accuracy:\", test_accuracy)\n",
    "        "
   ]
  },
  {
   "cell_type": "code",
   "execution_count": null,
   "metadata": {
    "_cell_guid": "c9fe8ec0-8d2c-46ca-b54f-58f86e54f543",
    "_uuid": "c71cdbea8682bf2594690123d9fb1d115f0561c5"
   },
   "outputs": [],
   "source": []
  }
 ],
 "metadata": {
  "kernelspec": {
   "display_name": "Python 3",
   "language": "python",
   "name": "python3"
  },
  "language_info": {
   "codemirror_mode": {
    "name": "ipython",
    "version": 3
   },
   "file_extension": ".py",
   "mimetype": "text/x-python",
   "name": "python",
   "nbconvert_exporter": "python",
   "pygments_lexer": "ipython3",
   "version": "3.6.3"
  }
 },
 "nbformat": 4,
 "nbformat_minor": 1
}
